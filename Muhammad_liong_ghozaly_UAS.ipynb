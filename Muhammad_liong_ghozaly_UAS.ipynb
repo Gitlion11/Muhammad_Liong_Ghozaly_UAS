{
  "nbformat": 4,
  "nbformat_minor": 0,
  "metadata": {
    "colab": {
      "provenance": [],
      "authorship_tag": "ABX9TyMVq6KMF9RXeAgwKgqa4TJb",
      "include_colab_link": true
    },
    "kernelspec": {
      "name": "python3",
      "display_name": "Python 3"
    },
    "language_info": {
      "name": "python"
    }
  },
  "cells": [
    {
      "cell_type": "markdown",
      "metadata": {
        "id": "view-in-github",
        "colab_type": "text"
      },
      "source": [
        "<a href=\"https://colab.research.google.com/github/Gitlion11/Muhammad_Liong_Ghozaly_UAS/blob/main/Muhammad_liong_ghozaly_UAS.ipynb\" target=\"_parent\"><img src=\"https://colab.research.google.com/assets/colab-badge.svg\" alt=\"Open In Colab\"/></a>"
      ]
    },
    {
      "cell_type": "code",
      "execution_count": 1,
      "metadata": {
        "colab": {
          "base_uri": "https://localhost:8080/"
        },
        "id": "iKKexcHfLeTW",
        "outputId": "22063e48-27b8-4cf5-f283-f3582bec4fd1"
      },
      "outputs": [
        {
          "output_type": "stream",
          "name": "stdout",
          "text": [
            "Collecting scikit-fuzzy\n",
            "  Downloading scikit_fuzzy-0.5.0-py2.py3-none-any.whl.metadata (2.6 kB)\n",
            "Downloading scikit_fuzzy-0.5.0-py2.py3-none-any.whl (920 kB)\n",
            "\u001b[?25l   \u001b[90m━━━━━━━━━━━━━━━━━━━━━━━━━━━━━━━━━━━━━━━━\u001b[0m \u001b[32m0.0/920.8 kB\u001b[0m \u001b[31m?\u001b[0m eta \u001b[36m-:--:--\u001b[0m\r\u001b[2K   \u001b[91m━━━━━━━━━\u001b[0m\u001b[91m╸\u001b[0m\u001b[90m━━━━━━━━━━━━━━━━━━━━━━━━━━━━━━\u001b[0m \u001b[32m225.3/920.8 kB\u001b[0m \u001b[31m6.4 MB/s\u001b[0m eta \u001b[36m0:00:01\u001b[0m\r\u001b[2K   \u001b[91m━━━━━━━━━━━━━━━━━━━━━━━━━━━━━━━━━━━━━━━\u001b[0m\u001b[91m╸\u001b[0m \u001b[32m911.4/920.8 kB\u001b[0m \u001b[31m15.1 MB/s\u001b[0m eta \u001b[36m0:00:01\u001b[0m\r\u001b[2K   \u001b[90m━━━━━━━━━━━━━━━━━━━━━━━━━━━━━━━━━━━━━━━━\u001b[0m \u001b[32m920.8/920.8 kB\u001b[0m \u001b[31m10.1 MB/s\u001b[0m eta \u001b[36m0:00:00\u001b[0m\n",
            "\u001b[?25hInstalling collected packages: scikit-fuzzy\n",
            "Successfully installed scikit-fuzzy-0.5.0\n"
          ]
        }
      ],
      "source": [
        "!pip install scikit-fuzzy\n"
      ]
    },
    {
      "cell_type": "code",
      "source": [
        "import numpy as np\n",
        "import skfuzzy as fuzz\n",
        "import skfuzzy.control as ctrl\n",
        "\n",
        "# Definisi variabel input\n",
        "suhu = ctrl.Antecedent(np.arange(16, 31, 1), 'suhu')\n",
        "kelembaban = ctrl.Antecedent(np.arange(30, 81, 1), 'kelembaban')\n",
        "\n",
        "# Definisi variabel output\n",
        "kecepatan_kipas = ctrl.Consequent(np.arange(0, 101, 1), 'kecepatan_kipas')\n",
        "\n",
        "# Membership function untuk suhu\n",
        "suhu['dingin'] = fuzz.trimf(suhu.universe, [16, 16, 22])\n",
        "suhu['sejuk'] = fuzz.trimf(suhu.universe, [20, 24, 28])\n",
        "suhu['panas'] = fuzz.trimf(suhu.universe, [25, 30, 30])\n",
        "\n",
        "# Membership function untuk kelembaban\n",
        "kelembaban['rendah'] = fuzz.trimf(kelembaban.universe, [30, 30, 50])\n",
        "kelembaban['sedang'] = fuzz.trimf(kelembaban.universe, [40, 55, 70])\n",
        "kelembaban['tinggi'] = fuzz.trimf(kelembaban.universe, [60, 80, 80])\n",
        "\n",
        "# Membership function untuk kecepatan kipas\n",
        "kecepatan_kipas['lambat'] = fuzz.trimf(kecepatan_kipas.universe, [0, 0, 50])\n",
        "kecepatan_kipas['sedang'] = fuzz.trimf(kecepatan_kipas.universe, [30, 50, 70])\n",
        "kecepatan_kipas['cepat'] = fuzz.trimf(kecepatan_kipas.universe, [60, 100, 100])\n",
        "\n",
        "# Definisi aturan fuzzy\n",
        "rule1 = ctrl.Rule(suhu['dingin'] & kelembaban['rendah'], kecepatan_kipas['lambat'])\n",
        "rule2 = ctrl.Rule(suhu['dingin'] & kelembaban['sedang'], kecepatan_kipas['lambat'])\n",
        "rule3 = ctrl.Rule(suhu['dingin'] & kelembaban['tinggi'], kecepatan_kipas['sedang'])\n",
        "rule4 = ctrl.Rule(suhu['sejuk'] & kelembaban['rendah'], kecepatan_kipas['lambat'])\n",
        "rule5 = ctrl.Rule(suhu['sejuk'] & kelembaban['sedang'], kecepatan_kipas['sedang'])\n",
        "rule6 = ctrl.Rule(suhu['sejuk'] & kelembaban['tinggi'], kecepatan_kipas['cepat'])\n",
        "rule7 = ctrl.Rule(suhu['panas'] & kelembaban['rendah'], kecepatan_kipas['sedang'])\n",
        "rule8 = ctrl.Rule(suhu['panas'] & kelembaban['sedang'], kecepatan_kipas['cepat'])\n",
        "rule9 = ctrl.Rule(suhu['panas'] & kelembaban['tinggi'], kecepatan_kipas['cepat'])\n",
        "\n",
        "# Pembuatan sistem kontrol\n",
        "kipas_ctrl = ctrl.ControlSystem([rule1, rule2, rule3, rule4, rule5, rule6, rule7, rule8, rule9])\n",
        "kipas = ctrl.ControlSystemSimulation(kipas_ctrl)\n",
        "\n",
        "# Contoh input\n",
        "kipas.input['suhu'] = 27\n",
        "kipas.input['kelembaban'] = 65\n",
        "\n",
        "# Perhitungan output\n",
        "kipas.compute()\n",
        "print(f\"Kecepatan kipas: {kipas.output['kecepatan_kipas']:.2f}%\")\n"
      ],
      "metadata": {
        "colab": {
          "base_uri": "https://localhost:8080/"
        },
        "id": "pRoQoPZpL2uo",
        "outputId": "8701dfad-fe31-4e40-e249-2dcb105ffbf5"
      },
      "execution_count": 2,
      "outputs": [
        {
          "output_type": "stream",
          "name": "stdout",
          "text": [
            "Kecepatan kipas: 68.65%\n"
          ]
        }
      ]
    }
  ]
}